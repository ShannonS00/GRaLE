{
 "cells": [
  {
   "cell_type": "markdown",
   "id": "99deb759",
   "metadata": {},
   "source": [
    "## A firs user case for GRaLE"
   ]
  },
  {
   "cell_type": "markdown",
   "id": "25681ebc",
   "metadata": {},
   "source": [
    "First set up all relevant imports:"
   ]
  },
  {
   "cell_type": "code",
   "execution_count": 16,
   "id": "3ef2d936",
   "metadata": {},
   "outputs": [
    {
     "ename": "ImportError",
     "evalue": "cannot import name 'calculate_distances' from 'grale' (C:\\Users\\shann\\master\\repos\\GRaLE\\grale\\__init__.py)",
     "output_type": "error",
     "traceback": [
      "\u001b[1;31m---------------------------------------------------------------------------\u001b[0m",
      "\u001b[1;31mImportError\u001b[0m                               Traceback (most recent call last)",
      "Cell \u001b[1;32mIn[16], line 1\u001b[0m\n\u001b[1;32m----> 1\u001b[0m \u001b[38;5;28;01mfrom\u001b[39;00m\u001b[38;5;250m \u001b[39m\u001b[38;5;21;01mgrale\u001b[39;00m\u001b[38;5;250m \u001b[39m\u001b[38;5;28;01mimport\u001b[39;00m GWEvent, calculate_distances, LensingCalculator\n\u001b[0;32m      2\u001b[0m \u001b[38;5;28;01mfrom\u001b[39;00m\u001b[38;5;250m \u001b[39m\u001b[38;5;21;01mastropy\u001b[39;00m\u001b[38;5;21;01m.\u001b[39;00m\u001b[38;5;21;01mcosmology\u001b[39;00m\u001b[38;5;250m \u001b[39m\u001b[38;5;28;01mimport\u001b[39;00m FlatLambdaCDM\n\u001b[0;32m      3\u001b[0m \u001b[38;5;28;01mimport\u001b[39;00m\u001b[38;5;250m \u001b[39m\u001b[38;5;21;01mastropy\u001b[39;00m\u001b[38;5;21;01m.\u001b[39;00m\u001b[38;5;21;01munits\u001b[39;00m\u001b[38;5;250m \u001b[39m\u001b[38;5;28;01mas\u001b[39;00m\u001b[38;5;250m \u001b[39m\u001b[38;5;21;01mu\u001b[39;00m\n",
      "\u001b[1;31mImportError\u001b[0m: cannot import name 'calculate_distances' from 'grale' (C:\\Users\\shann\\master\\repos\\GRaLE\\grale\\__init__.py)"
     ]
    }
   ],
   "source": [
    "from grale import GWEvent, calculate_distances, LensingCalculator\n",
    "from astropy.cosmology import FlatLambdaCDM\n",
    "import astropy.units as u\n",
    "import matplotlib.pyplot as plt\n",
    "import numpy as np"
   ]
  },
  {
   "cell_type": "markdown",
   "id": "bbac040a",
   "metadata": {},
   "source": [
    "## GW Event properties\n",
    "\n",
    "\n",
    "You first create the Gravitational Wave Event, e.g.: a binary Neutron star merger, with masses: $m_1 = 1.5 M_\\odot$ and $m_2 = 1.2 M_\\odot$, using `GWEvent()`. "
   ]
  },
  {
   "cell_type": "code",
   "execution_count": 3,
   "id": "a496a742",
   "metadata": {},
   "outputs": [],
   "source": [
    "event = GWEvent(m1=1.3, m2=1.5)"
   ]
  },
  {
   "cell_type": "markdown",
   "id": "7f808980",
   "metadata": {},
   "source": [
    "Now, you can acces all the functions of `GWEvent()` : `chirp_mass`, `true_redshift` and `redshift_range`. \n",
    "\n",
    "Lets first calculate the Chirp mass: "
   ]
  },
  {
   "cell_type": "code",
   "execution_count": 4,
   "id": "00cb6399",
   "metadata": {},
   "outputs": [
    {
     "name": "stdout",
     "output_type": "stream",
     "text": [
      "Chirp Mass: 1.215 M_sun\n"
     ]
    }
   ],
   "source": [
    "chirp_mass = event.chirp_mass()\n",
    "print(f\"Chirp Mass: {chirp_mass:.3f} M_sun\")"
   ]
  },
  {
   "cell_type": "markdown",
   "id": "b06d20d7",
   "metadata": {},
   "source": [
    "You can also acces the detector frame chirp mass just by calling it (small extra, not necessary)"
   ]
  },
  {
   "cell_type": "code",
   "execution_count": 5,
   "id": "aef5bff8",
   "metadata": {},
   "outputs": [
    {
     "data": {
      "text/plain": [
       "1.2150360414642816"
      ]
     },
     "execution_count": 5,
     "metadata": {},
     "output_type": "execute_result"
    }
   ],
   "source": [
    "event.M0"
   ]
  },
  {
   "cell_type": "markdown",
   "id": "de2e92fa",
   "metadata": {},
   "source": [
    "Now you can calculate the redshift of the source, if you now the source frame chirp mass\n",
    "\n",
    "| Note: If you don't know it, you first have to calculate it using the Luminosity distance. However this package is meant to test   \n",
    "| source frame Chirp mass ranges, if, for example the second component of the merger is unknown, as in the case of GW170817."
   ]
  },
  {
   "cell_type": "code",
   "execution_count": 10,
   "id": "32cd4668",
   "metadata": {},
   "outputs": [
    {
     "name": "stdout",
     "output_type": "stream",
     "text": [
      "Redshift of the lens: 0.376\n"
     ]
    }
   ],
   "source": [
    "z_lensed = event.true_redshift(M=1.2)\n",
    "print(f\"Redshift of the lens: {z_lensed:.3f}\")"
   ]
  },
  {
   "cell_type": "markdown",
   "id": "cc64a5cb",
   "metadata": {},
   "source": [
    "If, as above said, the second component of the binary merger is unknown, we can let the masses that caused the merger vary, e.g $m_1$ between the neutron star mass and $m_2$ be a different star. This is a rather weird approach to this problem but we decided to go this way. \n",
    "\n",
    "If you let the stars vary, you can use the `redshift_range`function. You can define a mass difference `delta` and you need to specify the redshift of the lens.\n",
    "\n",
    "This function prints you immediately an overview of the calculated parameters. \n",
    "\n",
    "This function calculates the Chirp mass, the redshift range and the redshift range under a lensing scenario ( so the source has to be at a larger redshift than the lens.) "
   ]
  },
  {
   "cell_type": "code",
   "execution_count": 7,
   "id": "d6d78b85",
   "metadata": {},
   "outputs": [
    {
     "name": "stdout",
     "output_type": "stream",
     "text": [
      "m1 ∈ [0.80, 1.80]\n",
      "m2 ∈ [1.00, 2.00]\n",
      "Chirp mass range: [0.78, 1.65]\n",
      "Plausible redshift range: [0.0000, 1.1234]\n",
      "Lensed redshift range (z ≥ 0.0098): [0.0101, 1.1234]\n"
     ]
    }
   ],
   "source": [
    "# Get redshift results over those mass ranges \n",
    "z_lens = 0.0098\n",
    "\n",
    "redshift_results = event.redshift_range(delta=0.5, step=0.01, z_lens=z_lens) "
   ]
  },
  {
   "cell_type": "markdown",
   "id": "8a2fdc5d",
   "metadata": {},
   "source": [
    "## Lensing Calculator\n",
    "Once the lensing event properties are calculates, you can continue with the properties of the Lensing Galaxy. \n",
    "\n",
    "**Important**: This is done under the assumption of an Isothermal Sphere!\n",
    "\n",
    "First, we set up the distance calculator to calculate all the distances. \n"
   ]
  },
  {
   "cell_type": "code",
   "execution_count": 14,
   "id": "01f26739",
   "metadata": {},
   "outputs": [
    {
     "ename": "NameError",
     "evalue": "name 'calculate_distances' is not defined",
     "output_type": "error",
     "traceback": [
      "\u001b[1;31m---------------------------------------------------------------------------\u001b[0m",
      "\u001b[1;31mNameError\u001b[0m                                 Traceback (most recent call last)",
      "Cell \u001b[1;32mIn[14], line 4\u001b[0m\n\u001b[0;32m      1\u001b[0m \u001b[38;5;66;03m# SETUP\u001b[39;00m\n\u001b[0;32m      2\u001b[0m cosmo \u001b[38;5;241m=\u001b[39m FlatLambdaCDM(H0\u001b[38;5;241m=\u001b[39m\u001b[38;5;241m67.9\u001b[39m, Om0\u001b[38;5;241m=\u001b[39m\u001b[38;5;241m0.3065\u001b[39m)\n\u001b[1;32m----> 4\u001b[0m dist \u001b[38;5;241m=\u001b[39m \u001b[43mcalculate_distances\u001b[49m(cosmo, z_lens)\n",
      "\u001b[1;31mNameError\u001b[0m: name 'calculate_distances' is not defined"
     ]
    }
   ],
   "source": [
    "# SETUP\n",
    "cosmo = FlatLambdaCDM(H0=67.9, Om0=0.3065)\n",
    "\n",
    "dist = calculate_distances(cosmo, z_lens)"
   ]
  },
  {
   "cell_type": "markdown",
   "id": "0cc34461",
   "metadata": {},
   "source": [
    "\n",
    "\n",
    "Now you have to set up the lens properties using the `LensingCalculator`, for this you need a cosmological model `cosmo`(e.g Flat Lambda CDM), the luminosity distance of the galaxy `D_mu1`, the velocity dispersion `sigma`, and the angular offset of the source to the lens `theta_offset`"
   ]
  },
  {
   "cell_type": "code",
   "execution_count": null,
   "id": "0b284bb4",
   "metadata": {},
   "outputs": [],
   "source": [
    "distance_mu1 = 40 * u.Mpc\n",
    "sigma = 160 \n",
    "theta_offset = 10.07 \n",
    "\n",
    "lens = LensingCalculator(\n",
    "    cosmo=cosmo,\n",
    "    D_mu1=distance_mu1,\n",
    "    sigma=sigma,\n",
    "    theta_offset=theta_offset\n",
    ")"
   ]
  },
  {
   "cell_type": "markdown",
   "id": "58612fd8",
   "metadata": {},
   "source": [
    "In this, all needed Luminosity distances can be calculated.\n",
    "\n",
    "\n",
    "You can calculate the possible magnification of the source by the lens: "
   ]
  },
  {
   "cell_type": "code",
   "execution_count": null,
   "id": "cf2b34b4",
   "metadata": {},
   "outputs": [
    {
     "name": "stdout",
     "output_type": "stream",
     "text": [
      "Luminosity Distance: 43.594 Mpc Mpc\n"
     ]
    }
   ],
   "source": [
    "d_lum = dist.luminosity_distance(z_lens)\n",
    "print(f\"Luminosity Distance: {d_lum:.3f} Mpc\")"
   ]
  },
  {
   "cell_type": "code",
   "execution_count": 11,
   "id": "9a6cccc5",
   "metadata": {},
   "outputs": [
    {
     "name": "stdout",
     "output_type": "stream",
     "text": [
      "Magnification: 1.188\n"
     ]
    }
   ],
   "source": [
    "magnification = lens.magnification(d_lum)\n",
    "print(f\"Magnification: {magnification:.3f}\")"
   ]
  },
  {
   "cell_type": "markdown",
   "id": "f70f9af0",
   "metadata": {},
   "source": [
    "Then you can alculat the Einstein Radius of the lens: "
   ]
  },
  {
   "cell_type": "code",
   "execution_count": null,
   "id": "4fc5e3e8",
   "metadata": {},
   "outputs": [
    {
     "name": "stdout",
     "output_type": "stream",
     "text": [
      "Einstein Radius: 0.160 arcsec arcsec\n"
     ]
    }
   ],
   "source": [
    "# Calculate the angular diameter distances\n",
    "# First: angular diameter distance from the lens to the source\n",
    "DLS = dist.angular_diameter_distance_z1z2(z_lens, z_lensed)\n",
    "\n",
    "# Second: angular diameter distance from the observer to the source\n",
    "DS = dist.angular_diameter_distance(z_lensed)\n",
    "\n",
    "# Calculate einstein radius \n",
    "Re = lens.einstein_radius(DLS, DS)\n",
    "print(f\"Einstein Radius: {Re:.3f} arcsec\")"
   ]
  },
  {
   "cell_type": "markdown",
   "id": "5efd27a4",
   "metadata": {},
   "source": [
    "Now you can also calculate the magnifying power that the lens has on the source: "
   ]
  },
  {
   "cell_type": "code",
   "execution_count": 13,
   "id": "9d07be2a",
   "metadata": {},
   "outputs": [
    {
     "name": "stdout",
     "output_type": "stream",
     "text": [
      "Geometric Magnification: 1.016\n"
     ]
    }
   ],
   "source": [
    "mu_geo = lens.magnifying_power(Re)\n",
    "print(f\"Geometric Magnification: {mu_geo:.3f}\")"
   ]
  },
  {
   "cell_type": "markdown",
   "id": "2543f687",
   "metadata": {},
   "source": [
    "If you want to work with the ranges as before, you can just use the `compute_over_redshift_range` function and everything above will be done for you:\n",
    "\n",
    "\n",
    "You need to define the redshift range or extract it from the prior calculated properties:"
   ]
  },
  {
   "cell_type": "code",
   "execution_count": 14,
   "id": "6927d2b8",
   "metadata": {},
   "outputs": [
    {
     "name": "stdout",
     "output_type": "stream",
     "text": [
      "z ∈ [0.0101, 1.1234]\n",
      "DS range: [43.85, 1737.50] Mpc\n",
      "DLS range: [1.11, 1717.17] Mpc\n",
      "Magnification range of source: [1.25, 38355.84]\n",
      "Einstein radius range: [0.019, 0.729] arcsec\n",
      "Magnification range of lens: [1.00, 1.08]\n"
     ]
    }
   ],
   "source": [
    "# Extracted from above: \n",
    "z_lensed = redshift_results[\"plausible_redshifts_lensed\"] #get an array of redshifts \n",
    "\n",
    "# Use the lensing calculator to compute the results over a range of redshifts\n",
    "# This will return a dictionary with the results\n",
    "lens_results = lens.compute_over_redshift_range(z_lensed, z_lens=z_lens)\n"
   ]
  }
 ],
 "metadata": {
  "kernelspec": {
   "display_name": "Python 3",
   "language": "python",
   "name": "python3"
  },
  "language_info": {
   "codemirror_mode": {
    "name": "ipython",
    "version": 3
   },
   "file_extension": ".py",
   "mimetype": "text/x-python",
   "name": "python",
   "nbconvert_exporter": "python",
   "pygments_lexer": "ipython3",
   "version": "3.13.1"
  }
 },
 "nbformat": 4,
 "nbformat_minor": 5
}
